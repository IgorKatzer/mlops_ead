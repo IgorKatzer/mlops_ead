{
  "cells": [
    {
      "cell_type": "markdown",
      "metadata": {
        "id": "yYryuRDeqbxK"
      },
      "source": [
        "# **Cultura e Práticas em DataOps e MLOps**\n",
        "**Autor**: Renan Santos Mendes\n",
        "\n",
        "**Email**: renansantosmendes@gmail.com\n",
        "\n",
        "**Descrição**: Este notebook apresenta um exemplo de uma rede neural profunda com mais de uma camada para um problema de classificação.\n",
        "\n",
        "\n",
        "# **Saúde Fetal**\n",
        "\n",
        "As Cardiotocografias (CTGs) são opções simples e de baixo custo para avaliar a saúde fetal, permitindo que os profissionais de saúde atuem na prevenção da mortalidade infantil e materna. O próprio equipamento funciona enviando pulsos de ultrassom e lendo sua resposta, lançando luz sobre a frequência cardíaca fetal (FCF), movimentos fetais, contrações uterinas e muito mais.\n",
        "\n",
        "Este conjunto de dados contém 2126 registros de características extraídas de exames de Cardiotocografias, que foram então classificados por três obstetras especialistas em 3 classes:\n",
        "\n",
        "- Normal\n",
        "- Suspeito\n",
        "- Patológico"
      ]
    },
    {
      "cell_type": "markdown",
      "metadata": {
        "id": "MkB47-my-kq9"
      },
      "source": [
        "# Instalando pacotes"
      ]
    },
    {
      "cell_type": "code",
      "execution_count": 1,
      "metadata": {
        "id": "bRE1wGJ9-jxZ"
      },
      "outputs": [],
      "source": [
        "%%capture\n",
        "%pip install mlflow"
      ]
    },
    {
      "cell_type": "markdown",
      "metadata": {
        "id": "4WgsLeJngPb1"
      },
      "source": [
        "# 1 - Importando os módulos necessários"
      ]
    },
    {
      "cell_type": "code",
      "execution_count": null,
      "metadata": {
        "id": "55YREGWfhXuu"
      },
      "outputs": [
        {
          "name": "stdout",
          "output_type": "stream",
          "text": [
            "Requirement already satisfied: tensorflow in c:\\users\\igor\\anaconda3\\envs\\mlops-env\\lib\\site-packages (2.10.0)\n",
            "Requirement already satisfied: absl-py>=1.0.0 in c:\\users\\igor\\anaconda3\\envs\\mlops-env\\lib\\site-packages (from tensorflow) (2.3.1)\n",
            "Requirement already satisfied: astunparse>=1.6.0 in c:\\users\\igor\\anaconda3\\envs\\mlops-env\\lib\\site-packages (from tensorflow) (1.6.3)\n",
            "Requirement already satisfied: flatbuffers>=2.0 in c:\\users\\igor\\anaconda3\\envs\\mlops-env\\lib\\site-packages (from tensorflow) (25.2.10)\n",
            "Requirement already satisfied: gast<=0.4.0,>=0.2.1 in c:\\users\\igor\\anaconda3\\envs\\mlops-env\\lib\\site-packages (from tensorflow) (0.4.0)\n",
            "Requirement already satisfied: google-pasta>=0.1.1 in c:\\users\\igor\\anaconda3\\envs\\mlops-env\\lib\\site-packages (from tensorflow) (0.2.0)\n",
            "Requirement already satisfied: h5py>=2.9.0 in c:\\users\\igor\\anaconda3\\envs\\mlops-env\\lib\\site-packages (from tensorflow) (3.9.0)\n",
            "Requirement already satisfied: keras-preprocessing>=1.1.1 in c:\\users\\igor\\anaconda3\\envs\\mlops-env\\lib\\site-packages (from tensorflow) (1.1.2)\n",
            "Requirement already satisfied: libclang>=13.0.0 in c:\\users\\igor\\anaconda3\\envs\\mlops-env\\lib\\site-packages (from tensorflow) (18.1.1)\n",
            "Requirement already satisfied: numpy>=1.20 in c:\\users\\igor\\anaconda3\\envs\\mlops-env\\lib\\site-packages (from tensorflow) (1.26.4)\n",
            "Requirement already satisfied: opt-einsum>=2.3.2 in c:\\users\\igor\\anaconda3\\envs\\mlops-env\\lib\\site-packages (from tensorflow) (3.4.0)\n",
            "Requirement already satisfied: packaging in c:\\users\\igor\\anaconda3\\envs\\mlops-env\\lib\\site-packages (from tensorflow) (25.0)\n",
            "Requirement already satisfied: protobuf<3.20,>=3.9.2 in c:\\users\\igor\\anaconda3\\envs\\mlops-env\\lib\\site-packages (from tensorflow) (3.19.6)\n",
            "Requirement already satisfied: setuptools in c:\\users\\igor\\anaconda3\\envs\\mlops-env\\lib\\site-packages (from tensorflow) (80.9.0)\n",
            "Requirement already satisfied: six>=1.12.0 in c:\\users\\igor\\anaconda3\\envs\\mlops-env\\lib\\site-packages (from tensorflow) (1.17.0)\n",
            "Requirement already satisfied: termcolor>=1.1.0 in c:\\users\\igor\\anaconda3\\envs\\mlops-env\\lib\\site-packages (from tensorflow) (3.1.0)\n",
            "Requirement already satisfied: typing-extensions>=3.6.6 in c:\\users\\igor\\anaconda3\\envs\\mlops-env\\lib\\site-packages (from tensorflow) (4.15.0)\n",
            "Requirement already satisfied: wrapt>=1.11.0 in c:\\users\\igor\\anaconda3\\envs\\mlops-env\\lib\\site-packages (from tensorflow) (1.17.3)\n",
            "Requirement already satisfied: tensorflow-io-gcs-filesystem>=0.23.1 in c:\\users\\igor\\anaconda3\\envs\\mlops-env\\lib\\site-packages (from tensorflow) (0.31.0)\n",
            "Requirement already satisfied: grpcio<2.0,>=1.24.3 in c:\\users\\igor\\anaconda3\\envs\\mlops-env\\lib\\site-packages (from tensorflow) (1.48.1)\n",
            "Requirement already satisfied: tensorboard<2.11,>=2.10 in c:\\users\\igor\\anaconda3\\envs\\mlops-env\\lib\\site-packages (from tensorflow) (2.10.1)\n",
            "Requirement already satisfied: tensorflow-estimator<2.11,>=2.10.0 in c:\\users\\igor\\anaconda3\\envs\\mlops-env\\lib\\site-packages (from tensorflow) (2.10.0)\n",
            "Requirement already satisfied: keras<2.11,>=2.10.0 in c:\\users\\igor\\anaconda3\\envs\\mlops-env\\lib\\site-packages (from tensorflow) (2.10.0)\n",
            "Requirement already satisfied: google-auth<3,>=1.6.3 in c:\\users\\igor\\anaconda3\\envs\\mlops-env\\lib\\site-packages (from tensorboard<2.11,>=2.10->tensorflow) (2.40.3)\n",
            "Requirement already satisfied: google-auth-oauthlib<0.5,>=0.4.1 in c:\\users\\igor\\anaconda3\\envs\\mlops-env\\lib\\site-packages (from tensorboard<2.11,>=2.10->tensorflow) (0.4.6)\n",
            "Requirement already satisfied: markdown>=2.6.8 in c:\\users\\igor\\anaconda3\\envs\\mlops-env\\lib\\site-packages (from tensorboard<2.11,>=2.10->tensorflow) (3.9)\n",
            "Requirement already satisfied: requests<3,>=2.21.0 in c:\\users\\igor\\anaconda3\\envs\\mlops-env\\lib\\site-packages (from tensorboard<2.11,>=2.10->tensorflow) (2.32.5)\n",
            "Requirement already satisfied: tensorboard-data-server<0.7.0,>=0.6.0 in c:\\users\\igor\\anaconda3\\envs\\mlops-env\\lib\\site-packages (from tensorboard<2.11,>=2.10->tensorflow) (0.6.1)\n",
            "Requirement already satisfied: tensorboard-plugin-wit>=1.6.0 in c:\\users\\igor\\anaconda3\\envs\\mlops-env\\lib\\site-packages (from tensorboard<2.11,>=2.10->tensorflow) (1.8.1)\n",
            "Requirement already satisfied: werkzeug>=1.0.1 in c:\\users\\igor\\anaconda3\\envs\\mlops-env\\lib\\site-packages (from tensorboard<2.11,>=2.10->tensorflow) (3.1.3)\n",
            "Requirement already satisfied: wheel>=0.26 in c:\\users\\igor\\anaconda3\\envs\\mlops-env\\lib\\site-packages (from tensorboard<2.11,>=2.10->tensorflow) (0.45.1)\n",
            "Requirement already satisfied: cachetools<6.0,>=2.0.0 in c:\\users\\igor\\anaconda3\\envs\\mlops-env\\lib\\site-packages (from google-auth<3,>=1.6.3->tensorboard<2.11,>=2.10->tensorflow) (5.5.2)\n",
            "Requirement already satisfied: pyasn1-modules>=0.2.1 in c:\\users\\igor\\anaconda3\\envs\\mlops-env\\lib\\site-packages (from google-auth<3,>=1.6.3->tensorboard<2.11,>=2.10->tensorflow) (0.4.2)\n",
            "Requirement already satisfied: rsa<5,>=3.1.4 in c:\\users\\igor\\anaconda3\\envs\\mlops-env\\lib\\site-packages (from google-auth<3,>=1.6.3->tensorboard<2.11,>=2.10->tensorflow) (4.9.1)\n",
            "Requirement already satisfied: requests-oauthlib>=0.7.0 in c:\\users\\igor\\anaconda3\\envs\\mlops-env\\lib\\site-packages (from google-auth-oauthlib<0.5,>=0.4.1->tensorboard<2.11,>=2.10->tensorflow) (2.0.0)\n",
            "Requirement already satisfied: charset_normalizer<4,>=2 in c:\\users\\igor\\anaconda3\\envs\\mlops-env\\lib\\site-packages (from requests<3,>=2.21.0->tensorboard<2.11,>=2.10->tensorflow) (3.4.3)\n",
            "Requirement already satisfied: idna<4,>=2.5 in c:\\users\\igor\\anaconda3\\envs\\mlops-env\\lib\\site-packages (from requests<3,>=2.21.0->tensorboard<2.11,>=2.10->tensorflow) (3.10)\n",
            "Requirement already satisfied: urllib3<3,>=1.21.1 in c:\\users\\igor\\anaconda3\\envs\\mlops-env\\lib\\site-packages (from requests<3,>=2.21.0->tensorboard<2.11,>=2.10->tensorflow) (2.5.0)\n",
            "Requirement already satisfied: certifi>=2017.4.17 in c:\\users\\igor\\anaconda3\\envs\\mlops-env\\lib\\site-packages (from requests<3,>=2.21.0->tensorboard<2.11,>=2.10->tensorflow) (2025.8.3)\n",
            "Requirement already satisfied: pyasn1>=0.1.3 in c:\\users\\igor\\anaconda3\\envs\\mlops-env\\lib\\site-packages (from rsa<5,>=3.1.4->google-auth<3,>=1.6.3->tensorboard<2.11,>=2.10->tensorflow) (0.6.1)\n",
            "Requirement already satisfied: oauthlib>=3.0.0 in c:\\users\\igor\\anaconda3\\envs\\mlops-env\\lib\\site-packages (from requests-oauthlib>=0.7.0->google-auth-oauthlib<0.5,>=0.4.1->tensorboard<2.11,>=2.10->tensorflow) (3.3.1)\n",
            "Requirement already satisfied: MarkupSafe>=2.1.1 in c:\\users\\igor\\anaconda3\\envs\\mlops-env\\lib\\site-packages (from werkzeug>=1.0.1->tensorboard<2.11,>=2.10->tensorflow) (3.0.2)\n",
            "Note: you may need to restart the kernel to use updated packages.\n"
          ]
        }
      ],
      "source": [
        "%pip install tensorflow\n",
        "\n",
        "import os\n",
        "import random\n",
        "import numpy as np\n",
        "import tensorflow as tf\n",
        "from tensorflow.keras.models import Sequential # pyright: ignore[reportMissingImports]\n",
        "from tensorflow.keras.layers import Dense, InputLayer # pyright: ignore[reportMissingImports]\n",
        "\n",
        "import pandas as pd\n",
        "from sklearn import preprocessing\n",
        "from sklearn.model_selection import train_test_split"
      ]
    },
    {
      "cell_type": "markdown",
      "metadata": {
        "id": "NFTzaAkEr-IP"
      },
      "source": [
        "# Definindo funções adicionais"
      ]
    },
    {
      "cell_type": "code",
      "execution_count": 3,
      "metadata": {
        "id": "OgKUlrlbozyR"
      },
      "outputs": [],
      "source": [
        "def reset_seeds() -> None:\n",
        "  \"\"\"\n",
        "  Resets the seeds to ensure reproducibility of results.\n",
        "\n",
        "  This function sets the seed for various random number generation libraries\n",
        "  to ensure that results are reproducible. The affected libraries are:\n",
        "  - Python's built-in `random`\n",
        "  - NumPy\n",
        "  - TensorFlow\n",
        "\n",
        "  The seed used is 42.\n",
        "\n",
        "  Returns:\n",
        "      None\n",
        "  \"\"\"\n",
        "  os.environ['PYTHONHASHSEED']=str(42)\n",
        "  tf.random.set_seed(42)\n",
        "  np.random.seed(42)\n",
        "  random.seed(42)"
      ]
    },
    {
      "cell_type": "markdown",
      "metadata": {
        "id": "I5uGdrdeh0QG"
      },
      "source": [
        "# 2 - Fazendo a leitura do dataset e atribuindo às respectivas variáveis"
      ]
    },
    {
      "cell_type": "code",
      "execution_count": 4,
      "metadata": {
        "id": "95168wcThmD2"
      },
      "outputs": [],
      "source": [
        "url = 'raw.githubusercontent.com'\n",
        "username = 'renansantosmendes'\n",
        "repository = 'lectures-cdas-2023'\n",
        "file_name = 'fetal_health_reduced.csv'\n",
        "data = pd.read_csv(f'https://{url}/{username}/{repository}/master/{file_name}')"
      ]
    },
    {
      "cell_type": "markdown",
      "metadata": {
        "id": "TEM30W0agQA_"
      },
      "source": [
        "# Dando uma leve olhada nos dados"
      ]
    },
    {
      "cell_type": "code",
      "execution_count": 5,
      "metadata": {
        "id": "HkQ-JIfWo3Wh"
      },
      "outputs": [
        {
          "data": {
            "text/html": [
              "<div>\n",
              "<style scoped>\n",
              "    .dataframe tbody tr th:only-of-type {\n",
              "        vertical-align: middle;\n",
              "    }\n",
              "\n",
              "    .dataframe tbody tr th {\n",
              "        vertical-align: top;\n",
              "    }\n",
              "\n",
              "    .dataframe thead th {\n",
              "        text-align: right;\n",
              "    }\n",
              "</style>\n",
              "<table border=\"1\" class=\"dataframe\">\n",
              "  <thead>\n",
              "    <tr style=\"text-align: right;\">\n",
              "      <th></th>\n",
              "      <th>severe_decelerations</th>\n",
              "      <th>accelerations</th>\n",
              "      <th>fetal_movement</th>\n",
              "      <th>uterine_contractions</th>\n",
              "      <th>fetal_health</th>\n",
              "    </tr>\n",
              "  </thead>\n",
              "  <tbody>\n",
              "    <tr>\n",
              "      <th>0</th>\n",
              "      <td>0.0</td>\n",
              "      <td>0.0</td>\n",
              "      <td>0.0</td>\n",
              "      <td>0.0</td>\n",
              "      <td>2.0</td>\n",
              "    </tr>\n",
              "    <tr>\n",
              "      <th>1</th>\n",
              "      <td>0.0</td>\n",
              "      <td>6.0</td>\n",
              "      <td>0.0</td>\n",
              "      <td>6.0</td>\n",
              "      <td>1.0</td>\n",
              "    </tr>\n",
              "    <tr>\n",
              "      <th>2</th>\n",
              "      <td>0.0</td>\n",
              "      <td>3.0</td>\n",
              "      <td>0.0</td>\n",
              "      <td>8.0</td>\n",
              "      <td>1.0</td>\n",
              "    </tr>\n",
              "    <tr>\n",
              "      <th>3</th>\n",
              "      <td>0.0</td>\n",
              "      <td>3.0</td>\n",
              "      <td>0.0</td>\n",
              "      <td>8.0</td>\n",
              "      <td>1.0</td>\n",
              "    </tr>\n",
              "    <tr>\n",
              "      <th>4</th>\n",
              "      <td>0.0</td>\n",
              "      <td>7.0</td>\n",
              "      <td>0.0</td>\n",
              "      <td>8.0</td>\n",
              "      <td>1.0</td>\n",
              "    </tr>\n",
              "  </tbody>\n",
              "</table>\n",
              "</div>"
            ],
            "text/plain": [
              "   severe_decelerations  accelerations  fetal_movement  uterine_contractions  \\\n",
              "0                   0.0            0.0             0.0                   0.0   \n",
              "1                   0.0            6.0             0.0                   6.0   \n",
              "2                   0.0            3.0             0.0                   8.0   \n",
              "3                   0.0            3.0             0.0                   8.0   \n",
              "4                   0.0            7.0             0.0                   8.0   \n",
              "\n",
              "   fetal_health  \n",
              "0           2.0  \n",
              "1           1.0  \n",
              "2           1.0  \n",
              "3           1.0  \n",
              "4           1.0  "
            ]
          },
          "execution_count": 5,
          "metadata": {},
          "output_type": "execute_result"
        }
      ],
      "source": [
        "data.head()"
      ]
    },
    {
      "cell_type": "markdown",
      "metadata": {
        "id": "1eQEA-fzgQ0G"
      },
      "source": [
        "# 3 - Preparando o dado antes de iniciar o treino do modelo"
      ]
    },
    {
      "cell_type": "code",
      "execution_count": 6,
      "metadata": {
        "id": "jBK7SgPxh7YY"
      },
      "outputs": [],
      "source": [
        "X=data.drop([\"fetal_health\"], axis=1)\n",
        "y=data[\"fetal_health\"]\n",
        "\n",
        "columns_names = list(X.columns)\n",
        "scaler = preprocessing.StandardScaler()\n",
        "X_df = scaler.fit_transform(X)\n",
        "X_df = pd.DataFrame(X_df, columns=columns_names)\n",
        "\n",
        "X_train, X_test, y_train, y_test = train_test_split(X_df,\n",
        "                                                    y,\n",
        "                                                    test_size=0.3,\n",
        "                                                    random_state=42)\n",
        "\n",
        "y_train = y_train -1\n",
        "y_test = y_test - 1"
      ]
    },
    {
      "cell_type": "markdown",
      "metadata": {
        "id": "54CmcOG1gRn9"
      },
      "source": [
        "# 4 - Criando o modelo e adicionando as camadas"
      ]
    },
    {
      "cell_type": "code",
      "execution_count": 7,
      "metadata": {
        "id": "4y2kKy_EkLGt"
      },
      "outputs": [],
      "source": [
        "reset_seeds()\n",
        "model = Sequential()\n",
        "model.add(InputLayer(input_shape=(X_train.shape[1], )))\n",
        "model.add(Dense(units=10, activation='relu'))\n",
        "model.add(Dense(units=10, activation='relu'))\n",
        "model.add(Dense(units=3, activation='softmax'))"
      ]
    },
    {
      "cell_type": "markdown",
      "metadata": {
        "id": "E0JmDrz6iQDw"
      },
      "source": [
        "# 5 - Compilando o modelo\n"
      ]
    },
    {
      "cell_type": "code",
      "execution_count": 8,
      "metadata": {
        "id": "7IeY0b4i1gQj"
      },
      "outputs": [],
      "source": [
        "model.compile(loss='sparse_categorical_crossentropy',\n",
        "              optimizer='adam',\n",
        "              metrics=['accuracy'])"
      ]
    },
    {
      "cell_type": "markdown",
      "metadata": {
        "id": "KTO_8Ky9idGZ"
      },
      "source": [
        "##**Configurando o mlflow**"
      ]
    },
    {
      "cell_type": "code",
      "execution_count": 9,
      "metadata": {
        "id": "9RlCNYss91nf"
      },
      "outputs": [
        {
          "name": "stderr",
          "output_type": "stream",
          "text": [
            "2025/09/11 06:48:17 WARNING mlflow.utils.autologging_utils: MLflow tensorflow autologging is known to be compatible with 2.13.1 <= tensorflow, but the installed version is 2.10.0. If you encounter errors during autologging, try upgrading / downgrading tensorflow to a compatible version, or try upgrading MLflow.\n"
          ]
        }
      ],
      "source": [
        "import mlflow\n",
        "\n",
        "os.environ['MLFLOW_TRACKING_USERNAME'] = 'renansantosmendes'\n",
        "os.environ['MLFLOW_TRACKING_PASSWORD'] = '6d730ef4a90b1caf28fbb01e5748f0874fda6077'\n",
        "mlflow.set_tracking_uri('https://dagshub.com/renansantosmendes/puc_lectures_mlops.mlflow')\n",
        "\n",
        "mlflow.keras.autolog(log_models=True,\n",
        "                     log_input_examples=True,\n",
        "                     log_model_signatures=True)"
      ]
    },
    {
      "cell_type": "markdown",
      "metadata": {
        "id": "MoHbKkvCim-p"
      },
      "source": [
        "# 6 - Executando o treino do modelo"
      ]
    },
    {
      "cell_type": "code",
      "execution_count": 10,
      "metadata": {
        "id": "w8IX2tHI2VX4"
      },
      "outputs": [
        {
          "name": "stdout",
          "output_type": "stream",
          "text": [
            "Epoch 1/50\n",
            "Epoch 2/50\n",
            "Epoch 3/50\n",
            "Epoch 4/50\n",
            "Epoch 5/50\n",
            "Epoch 6/50\n",
            "Epoch 7/50\n",
            "Epoch 8/50\n",
            "Epoch 9/50\n",
            "Epoch 10/50\n",
            "Epoch 11/50\n",
            "Epoch 12/50\n",
            "Epoch 13/50\n",
            "Epoch 14/50\n",
            "Epoch 15/50\n",
            "Epoch 16/50\n",
            "Epoch 17/50\n",
            "Epoch 18/50\n",
            "Epoch 19/50\n",
            "Epoch 20/50\n",
            "Epoch 21/50\n",
            "Epoch 22/50\n",
            "Epoch 23/50\n",
            "Epoch 24/50\n",
            "Epoch 25/50\n",
            "Epoch 26/50\n",
            "Epoch 27/50\n",
            "Epoch 28/50\n",
            "Epoch 29/50\n",
            "Epoch 30/50\n",
            "Epoch 31/50\n",
            "Epoch 32/50\n",
            "Epoch 33/50\n",
            "Epoch 34/50\n",
            "Epoch 35/50\n",
            "Epoch 36/50\n",
            "Epoch 37/50\n",
            "Epoch 38/50\n",
            "Epoch 39/50\n",
            "Epoch 40/50\n",
            "Epoch 41/50\n",
            "Epoch 42/50\n",
            "Epoch 43/50\n",
            "Epoch 44/50\n",
            "Epoch 45/50\n",
            "Epoch 46/50\n",
            "Epoch 47/50\n",
            "Epoch 48/50\n",
            "Epoch 49/50\n",
            "Epoch 50/50\n"
          ]
        },
        {
          "name": "stderr",
          "output_type": "stream",
          "text": [
            "2025/09/11 06:48:35 WARNING mlflow.utils.autologging_utils: Encountered unexpected error during tensorflow autologging: INTERNAL_ERROR: Response: {'error': 'unsupported endpoint, please contact support@dagshub.com'}\n"
          ]
        },
        {
          "name": "stdout",
          "output_type": "stream",
          "text": [
            "🏃 View run experiment_mlops_ead at: https://dagshub.com/renansantosmendes/puc_lectures_mlops.mlflow/#/experiments/0/runs/08876d88cbd1497b8ffc8e12ff22c124\n",
            "🧪 View experiment at: https://dagshub.com/renansantosmendes/puc_lectures_mlops.mlflow/#/experiments/0\n"
          ]
        }
      ],
      "source": [
        "with mlflow.start_run(run_name='experiment_mlops_ead') as run:\n",
        "  model.fit(X_train,\n",
        "            y_train,\n",
        "            epochs=50,\n",
        "            validation_split=0.2,\n",
        "            verbose=3)"
      ]
    },
    {
      "cell_type": "code",
      "execution_count": null,
      "metadata": {
        "id": "T6U0Jydaivi0"
      },
      "outputs": [],
      "source": []
    }
  ],
  "metadata": {
    "colab": {
      "provenance": []
    },
    "kernelspec": {
      "display_name": "mlops-env",
      "language": "python",
      "name": "python3"
    },
    "language_info": {
      "codemirror_mode": {
        "name": "ipython",
        "version": 3
      },
      "file_extension": ".py",
      "mimetype": "text/x-python",
      "name": "python",
      "nbconvert_exporter": "python",
      "pygments_lexer": "ipython3",
      "version": "3.10.8"
    }
  },
  "nbformat": 4,
  "nbformat_minor": 0
}
