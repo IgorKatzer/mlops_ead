{
  "cells": [
    {
      "cell_type": "markdown",
      "metadata": {
        "id": "yYryuRDeqbxK"
      },
      "source": [
        "# **Cultura e Práticas em DataOps e MLOps**\n",
        "**Autor**: Renan Santos Mendes\n",
        "\n",
        "**Email**: renansantosmendes@gmail.com\n",
        "\n",
        "**Descrição**: Este notebook apresenta um exemplo de uma rede neural profunda com mais de uma camada para um problema de classificação.\n",
        "\n",
        "\n",
        "# **Saúde Fetal**\n",
        "\n",
        "As Cardiotocografias (CTGs) são opções simples e de baixo custo para avaliar a saúde fetal, permitindo que os profissionais de saúde atuem na prevenção da mortalidade infantil e materna. O próprio equipamento funciona enviando pulsos de ultrassom e lendo sua resposta, lançando luz sobre a frequência cardíaca fetal (FCF), movimentos fetais, contrações uterinas e muito mais.\n",
        "\n",
        "Este conjunto de dados contém 2126 registros de características extraídas de exames de Cardiotocografias, que foram então classificados por três obstetras especialistas em 3 classes:\n",
        "\n",
        "- Normal\n",
        "- Suspeito\n",
        "- Patológico"
      ]
    },
    {
      "cell_type": "markdown",
      "metadata": {
        "id": "MkB47-my-kq9"
      },
      "source": [
        "# Instalando pacotes"
      ]
    },
    {
      "cell_type": "code",
      "execution_count": null,
      "metadata": {
        "id": "bRE1wGJ9-jxZ"
      },
      "outputs": [],
      "source": [
        "%%capture\n",
        "!pip install mlflow"
      ]
    },
    {
      "cell_type": "markdown",
      "metadata": {
        "id": "4WgsLeJngPb1"
      },
      "source": [
        "# 1 - Importando os módulos necessários"
      ]
    },
    {
      "cell_type": "code",
      "execution_count": null,
      "metadata": {
        "id": "55YREGWfhXuu"
      },
      "outputs": [],
      "source": [
        "import os\n",
        "import random\n",
        "import numpy as np\n",
        "import random as python_random\n",
        "import tensorflow\n",
        "import tensorflow as tf\n",
        "from tensorflow import keras\n",
        "from keras.models import Sequential\n",
        "from keras.layers import Dense, InputLayer\n",
        "from keras.utils import to_categorical\n",
        "\n",
        "import pandas as pd\n",
        "import matplotlib.pyplot as plt\n",
        "from sklearn import preprocessing\n",
        "from sklearn.preprocessing import StandardScaler\n",
        "from sklearn.model_selection import train_test_split"
      ]
    },
    {
      "cell_type": "markdown",
      "metadata": {
        "id": "NFTzaAkEr-IP"
      },
      "source": [
        "# Definindo funções adicionais"
      ]
    },
    {
      "cell_type": "code",
      "execution_count": null,
      "metadata": {
        "id": "OgKUlrlbozyR"
      },
      "outputs": [],
      "source": [
        "def reset_seeds() -> None:\n",
        "  \"\"\"\n",
        "  Resets the seeds to ensure reproducibility of results.\n",
        "\n",
        "  This function sets the seed for various random number generation libraries\n",
        "  to ensure that results are reproducible. The affected libraries are:\n",
        "  - Python's built-in `random`\n",
        "  - NumPy\n",
        "  - TensorFlow\n",
        "\n",
        "  The seed used is 42.\n",
        "\n",
        "  Returns:\n",
        "      None\n",
        "  \"\"\"\n",
        "  os.environ['PYTHONHASHSEED']=str(42)\n",
        "  tf.random.set_seed(42)\n",
        "  np.random.seed(42)\n",
        "  random.seed(42)"
      ]
    },
    {
      "cell_type": "markdown",
      "metadata": {
        "id": "I5uGdrdeh0QG"
      },
      "source": [
        "# 2 - Fazendo a leitura do dataset e atribuindo às respectivas variáveis"
      ]
    },
    {
      "cell_type": "code",
      "execution_count": null,
      "metadata": {
        "id": "95168wcThmD2"
      },
      "outputs": [],
      "source": [
        "url = 'raw.githubusercontent.com'\n",
        "username = 'renansantosmendes'\n",
        "repository = 'lectures-cdas-2023'\n",
        "file_name = 'fetal_health_reduced.csv'\n",
        "data = pd.read_csv(f'https://{url}/{username}/{repository}/master/{file_name}')"
      ]
    },
    {
      "cell_type": "markdown",
      "metadata": {
        "id": "TEM30W0agQA_"
      },
      "source": [
        "# Dando uma leve olhada nos dados"
      ]
    },
    {
      "cell_type": "code",
      "execution_count": null,
      "metadata": {
        "id": "HkQ-JIfWo3Wh"
      },
      "outputs": [],
      "source": [
        "data.head()"
      ]
    },
    {
      "cell_type": "markdown",
      "metadata": {
        "id": "1eQEA-fzgQ0G"
      },
      "source": [
        "# 3 - Preparando o dado antes de iniciar o treino do modelo"
      ]
    },
    {
      "cell_type": "code",
      "execution_count": null,
      "metadata": {
        "id": "jBK7SgPxh7YY"
      },
      "outputs": [],
      "source": [
        "X=data.drop([\"fetal_health\"], axis=1)\n",
        "y=data[\"fetal_health\"]\n",
        "\n",
        "columns_names = list(X.columns)\n",
        "scaler = preprocessing.StandardScaler()\n",
        "X_df = scaler.fit_transform(X)\n",
        "X_df = pd.DataFrame(X_df, columns=columns_names)\n",
        "\n",
        "X_train, X_test, y_train, y_test = train_test_split(X_df,\n",
        "                                                    y,\n",
        "                                                    test_size=0.3,\n",
        "                                                    random_state=42)\n",
        "\n",
        "y_train = y_train -1\n",
        "y_test = y_test - 1"
      ]
    },
    {
      "cell_type": "markdown",
      "metadata": {
        "id": "54CmcOG1gRn9"
      },
      "source": [
        "# 4 - Criando o modelo e adicionando as camadas"
      ]
    },
    {
      "cell_type": "code",
      "execution_count": null,
      "metadata": {
        "id": "4y2kKy_EkLGt"
      },
      "outputs": [],
      "source": [
        "reset_seeds()\n",
        "model = Sequential()\n",
        "model.add(InputLayer(input_shape=(X_train.shape[1], )))\n",
        "model.add(Dense(units=10, activation='relu'))\n",
        "model.add(Dense(units=10, activation='relu'))\n",
        "model.add(Dense(units=3, activation='softmax'))"
      ]
    },
    {
      "cell_type": "markdown",
      "metadata": {
        "id": "E0JmDrz6iQDw"
      },
      "source": [
        "# 5 - Compilando o modelo\n"
      ]
    },
    {
      "cell_type": "code",
      "execution_count": null,
      "metadata": {
        "id": "7IeY0b4i1gQj"
      },
      "outputs": [],
      "source": [
        "model.compile(loss='sparse_categorical_crossentropy',\n",
        "              optimizer='adam',\n",
        "              metrics=['accuracy'])"
      ]
    },
    {
      "cell_type": "markdown",
      "metadata": {
        "id": "KTO_8Ky9idGZ"
      },
      "source": [
        "##**Configurando o mlflow**"
      ]
    },
    {
      "cell_type": "code",
      "execution_count": null,
      "metadata": {
        "id": "9RlCNYss91nf"
      },
      "outputs": [],
      "source": [
        "import mlflow\n",
        "\n",
        "os.environ['MLFLOW_TRACKING_USERNAME'] = 'renansantosmendes'\n",
        "os.environ['MLFLOW_TRACKING_PASSWORD'] = '6d730ef4a90b1caf28fbb01e5748f0874fda6077'\n",
        "mlflow.set_tracking_uri('https://dagshub.com/renansantosmendes/puc_lectures_mlops.mlflow')\n",
        "\n",
        "mlflow.keras.autolog(log_models=True,\n",
        "                     log_input_examples=True,\n",
        "                     log_model_signatures=True)"
      ]
    },
    {
      "cell_type": "markdown",
      "metadata": {
        "id": "MoHbKkvCim-p"
      },
      "source": [
        "# 6 - Executando o treino do modelo"
      ]
    },
    {
      "cell_type": "code",
      "execution_count": null,
      "metadata": {
        "id": "w8IX2tHI2VX4"
      },
      "outputs": [],
      "source": [
        "with mlflow.start_run(run_name='experiment_mlops_ead') as run:\n",
        "  model.fit(X_train,\n",
        "            y_train,\n",
        "            epochs=50,\n",
        "            validation_split=0.2,\n",
        "            verbose=3)"
      ]
    },
    {
      "cell_type": "code",
      "execution_count": null,
      "metadata": {
        "id": "T6U0Jydaivi0"
      },
      "outputs": [],
      "source": []
    }
  ],
  "metadata": {
    "colab": {
      "provenance": []
    },
    "kernelspec": {
      "display_name": "mlops-env",
      "language": "python",
      "name": "python3"
    },
    "language_info": {
      "name": "python",
      "version": "3.9.15"
    }
  },
  "nbformat": 4,
  "nbformat_minor": 0
}
